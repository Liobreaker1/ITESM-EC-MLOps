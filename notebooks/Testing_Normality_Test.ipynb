{
 "cells": [
  {
   "cell_type": "code",
   "execution_count": null,
   "metadata": {},
   "outputs": [],
   "source": [
    "import scipy.stats as stats\n",
    "from sklearn import datasets\n",
    "\n",
    "import pytest\n",
    "import ipytest\n",
    "ipytest.autoconfig()"
   ]
  },
  {
   "cell_type": "code",
   "execution_count": null,
   "metadata": {},
   "outputs": [],
   "source": [
    "@pytest.fixture(scope=\"module\")\n",
    "def iris_dataset():\n",
    "    return datasets.load_iris()"
   ]
  },
  {
   "cell_type": "code",
   "execution_count": null,
   "metadata": {},
   "outputs": [],
   "source": [
    "%%ipytest\n",
    "\n",
    "def test_feature_normality(iris_dataset):\n",
    "    for i, feature in enumerate(iris_dataset.feature_names):\n",
    "        _, p_value = stats.shapiro(iris_dataset.data[:, i])\n",
    "        assert p_value < 0.05, f\"{feature} fails normality test with p-value: {p_value}\""
   ]
  },
  {
   "cell_type": "code",
   "execution_count": null,
   "metadata": {},
   "outputs": [],
   "source": [
    "%%ipytest\n",
    "\n",
    "def test_sepal_length_between_species(iris_dataset):\n",
    "    setosa = iris_dataset.data[iris_dataset.target == 0][:, 0]  # Longitud del sépalo de setosa\n",
    "    versicolor = iris_dataset.data[iris_dataset.target == 1][:, 0]  # Longitud del sépalo de versicolor\n",
    "    virginica = iris_dataset.data[iris_dataset.target == 2][:, 0]  # Longitud del sépalo de virginica\n",
    "\n",
    "    f_value, p_value = stats.f_oneway(setosa, versicolor, virginica)\n",
    "    assert p_value < 0.05  # Un P-value bajo indica diferencias significativas\n"
   ]
  }
 ],
 "metadata": {
  "kernelspec": {
   "display_name": "mlops_ec",
   "language": "python",
   "name": "python3"
  },
  "language_info": {
   "codemirror_mode": {
    "name": "ipython",
    "version": 3
   },
   "file_extension": ".py",
   "mimetype": "text/x-python",
   "name": "python",
   "nbconvert_exporter": "python",
   "pygments_lexer": "ipython3",
   "version": "3.10.11"
  }
 },
 "nbformat": 4,
 "nbformat_minor": 2
}
